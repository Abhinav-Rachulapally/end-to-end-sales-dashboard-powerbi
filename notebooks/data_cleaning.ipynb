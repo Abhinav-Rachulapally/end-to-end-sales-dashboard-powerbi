import pandas as pd

df = pd.read_csv("data/sample_sales.csv")
df.dropna(inplace=True)

# Rename columns
df.columns = [col.strip().lower().replace(' ', '_') for col in df.columns]

# Save cleaned file
df.to_csv("data/sales_clean.csv", index=False)
